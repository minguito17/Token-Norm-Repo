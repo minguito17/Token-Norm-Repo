{
 "cells": [
  {
   "cell_type": "markdown",
   "id": "7f79baf9",
   "metadata": {},
   "source": [
    "# ADS 509 Assignment 2.1: Tokenization, Normalization, Descriptive Statistics \n",
    "\n",
    "This notebook holds Assignment 2.1 for Module 2 in ADS 509, Applied Text Mining. Work through this notebook, writing code and answering questions where required. \n",
    "\n",
    "In the previous assignment you pulled lyrics data on two artists. In this assignment we explore this data set and a pull from the now-defunct Twitter API for the artists Cher and Robyn.  If, for some reason, you did not complete that previous assignment, data to use for this assignment can be found in the assignment materials section of Canvas. \n",
    "\n",
    "This assignment asks you to write a short function to calculate some descriptive statistics on a piece of text. Then you are asked to find some interesting and unique statistics on your corpora. \n"
   ]
  },
  {
   "cell_type": "markdown",
   "id": "aae8e2e1",
   "metadata": {},
   "source": [
    "## General Assignment Instructions\n",
    "\n",
    "These instructions are included in every assignment, to remind you of the coding standards for the class. Feel free to delete this cell after reading it. \n",
    "\n",
    "One sign of mature code is conforming to a style guide. We recommend the [Google Python Style Guide](https://google.github.io/styleguide/pyguide.html). If you use a different style guide, please include a cell with a link. \n",
    "\n",
    "Your code should be relatively easy-to-read, sensibly commented, and clean. Writing code is a messy process, so please be sure to edit your final submission. Remove any cells that are not needed or parts of cells that contain unnecessary code. Remove inessential `import` statements and make sure that all such statements are moved into the designated cell. \n",
    "\n",
    "Make use of non-code cells for written commentary. These cells should be grammatical and clearly written. In some of these cells you will have questions to answer. The questions will be marked by a \"Q:\" and will have a corresponding \"A:\" spot for you. *Make sure to answer every question marked with a `Q:` for full credit.* \n"
   ]
  },
  {
   "cell_type": "code",
   "execution_count": 57,
   "id": "e2d096b7",
   "metadata": {},
   "outputs": [
    {
     "name": "stderr",
     "output_type": "stream",
     "text": [
      "[nltk_data] Downloading package stopwords to\n",
      "[nltk_data]     C:\\Users\\16302\\AppData\\Roaming\\nltk_data...\n",
      "[nltk_data]   Package stopwords is already up-to-date!\n"
     ]
    }
   ],
   "source": [
    "import os\n",
    "import re\n",
    "import emoji\n",
    "import pandas as pd\n",
    "import numpy as np\n",
    "\n",
    "from collections import Counter, defaultdict\n",
    "from nltk.corpus import stopwords\n",
    "from string import punctuation\n",
    "\n",
    "import nltk\n",
    "nltk.download('stopwords')\n",
    "\n",
    "sw = stopwords.words(\"english\")"
   ]
  },
  {
   "cell_type": "code",
   "execution_count": 58,
   "id": "923b5a86",
   "metadata": {},
   "outputs": [],
   "source": [
    "# change `data_location` to the location of the folder on your machine.\n",
    "data_location = \"M1 Results\"\n",
    "# These subfolders should still work if you correctly stored the \n",
    "# data from the Module 1 assignment\n",
    "twitter_folder = \"twitter/\"\n",
    "lyrics_folder = \"lyrics/\""
   ]
  },
  {
   "cell_type": "code",
   "execution_count": 73,
   "id": "06522af9",
   "metadata": {},
   "outputs": [],
   "source": [
    "from collections import Counter\n",
    "\n",
    "def descriptive_stats(text, verbose=True, num_tokens=None):\n",
    "    # If input is a list (e.g., cleaned tokens), join into string\n",
    "    if isinstance(text, list):\n",
    "        text = \" \".join(text)\n",
    "\n",
    "    # Tokenize the input string into words\n",
    "    tokens = text.split()\n",
    "\n",
    "    # Optionally limit the number of tokens\n",
    "    if num_tokens is not None:\n",
    "        tokens = tokens[:num_tokens]\n",
    "\n",
    "    num_tokens_total = len(tokens)\n",
    "    unique_tokens = len(set(tokens))\n",
    "    num_characters = sum(len(token) for token in tokens)\n",
    "    lexical_diversity = unique_tokens / num_tokens_total if num_tokens_total > 0 else 0\n",
    "\n",
    "    top_5 = Counter(tokens).most_common(5)\n",
    "\n",
    "    if verbose:\n",
    "        print(f\"There are {num_tokens_total} tokens in the data.\")\n",
    "        print(f\"There are {unique_tokens} unique tokens in the data.\")\n",
    "        print(f\"There are {num_characters} characters in the data.\")\n",
    "        print(f\"The lexical diversity is {lexical_diversity:.3f}.\")\n",
    "        print(\"Top 5 words:\", top_5)\n",
    "\n",
    "    return [num_tokens_total, unique_tokens, num_characters, lexical_diversity, top_5]\n",
    "\n"
   ]
  },
  {
   "cell_type": "code",
   "execution_count": 74,
   "id": "59dcf058",
   "metadata": {},
   "outputs": [
    {
     "name": "stdout",
     "output_type": "stream",
     "text": [
      "There are 13 tokens in the data.\n",
      "There are 9 unique tokens in the data.\n",
      "There are 55 characters in the data.\n",
      "The lexical diversity is 0.692.\n",
      "Top 5 words: [('text', 3), ('here', 2), ('example', 2), ('is', 1), ('some', 1)]\n"
     ]
    }
   ],
   "source": [
    "text = \"\"\"here is some example text with other example text here in this text\"\"\"\n",
    "assert(descriptive_stats(text, verbose=True)[0] == 13)\n",
    "assert(descriptive_stats(text, verbose=False)[1] == 9)\n",
    "assert(descriptive_stats(text, verbose=False)[2] == 55)\n",
    "assert(abs(descriptive_stats(text, verbose=False)[3] - 0.69) < 0.02)"
   ]
  },
  {
   "cell_type": "markdown",
   "id": "d2e7e1a2",
   "metadata": {},
   "source": [
    "Q: Why is it beneficial to use assertion statements in your code? \n",
    "\n",
    "A: This is important so that it helps ensure that issues in your code are detected during execution."
   ]
  },
  {
   "cell_type": "markdown",
   "id": "9d3bf93e",
   "metadata": {},
   "source": [
    "## Data Input\n",
    "\n",
    "Now read in each of the corpora. For the lyrics data, it may be convenient to store the entire contents of the file to make it easier to inspect the titles individually, as you'll do in the last part of the assignment. In the solution, I stored the lyrics data in a dictionary with two dimensions of keys: artist and song. The value was the file contents. A data frame would work equally well. \n",
    "\n",
    "For the Twitter data, we only need the description field for this assignment. Feel free all the descriptions read it into a data structure. In the solution, I stored the descriptions as a dictionary of lists, with the key being the artist. \n",
    "\n",
    "\n"
   ]
  },
  {
   "cell_type": "code",
   "execution_count": 75,
   "id": "37d70801",
   "metadata": {},
   "outputs": [],
   "source": [
    "# Read in the lyrics data\n",
    "from collections import defaultdict\n",
    "\n",
    "lyrics_path = os.path.join(data_location, lyrics_folder)\n",
    "lyrics_data = defaultdict(dict)\n",
    "\n",
    "# This loops through artists folder\n",
    "for item in os.listdir(lyrics_path):\n",
    "    item_path = os.path.join(lyrics_path, item)\n",
    "    #This loops through Lyrics files\n",
    "    if os.path.isdir(item_path):\n",
    "        for lyric_page in os.listdir(item_path):\n",
    "            artist,song = lyric_page.split(\"_\",1)\n",
    "            song = os.path.splitext(song)[0]\n",
    "            file_path = os.path.join(item_path, lyric_page)\n",
    "            \n",
    "            # Read and store the lyrics\n",
    "            with open(file_path, \"r\", encoding=\"utf-8\") as f:\n",
    "                lyrics_data[item][song] = f.read()"
   ]
  },
  {
   "cell_type": "code",
   "execution_count": 76,
   "id": "debcac5a",
   "metadata": {},
   "outputs": [
    {
     "data": {
      "text/plain": [
       "3994804"
      ]
     },
     "execution_count": 76,
     "metadata": {},
     "output_type": "execute_result"
    }
   ],
   "source": [
    "\n",
    "twitter_path = os.path.join(data_location, twitter_folder)\n",
    "\n",
    "# Check path before doing anything\n",
    "if not os.path.exists(twitter_path):\n",
    "    print(\"Twitter folder not found:\", twitter_path)\n",
    "else:\n",
    "    # Read in the twitter data\n",
    "    twitter_files = os.listdir(twitter_path)\n",
    "    desc_files = [f for f in twitter_files if \"followers_data\" in f]\n",
    "\n",
    "    twitter_data = defaultdict(list)\n",
    "\n",
    "    for f in desc_files:\n",
    "        artist = f.split(\"_\")[0]\n",
    "        file_path = os.path.join(twitter_path, f)\n",
    "\n",
    "        # Open and process the file (example: read lines)\n",
    "        with open(file_path, \"r\", encoding=\"utf-8\") as file:\n",
    "            twitter_data[artist].extend(file.readlines())\n",
    "\n",
    "len(twitter_data['cher'])"
   ]
  },
  {
   "cell_type": "code",
   "execution_count": 77,
   "id": "f95a5ab4",
   "metadata": {},
   "outputs": [
    {
     "name": "stdout",
     "output_type": "stream",
     "text": [
      "There are 29318 tokens in the data.\n",
      "There are 3308 unique tokens in the data.\n",
      "There are 117270 characters in the data.\n",
      "The lexical diversity is 0.113.\n",
      "Top 5 words: [('you', 1216), ('I', 831), ('the', 811), ('me', 659), ('to', 640)]\n",
      "There are 70097 tokens in the data.\n",
      "There are 6039 unique tokens in the data.\n",
      "There are 274296 characters in the data.\n",
      "The lexical diversity is 0.086.\n",
      "Top 5 words: [('I', 2649), ('you', 2211), ('the', 2131), ('to', 1534), ('a', 1230)]\n"
     ]
    },
    {
     "data": {
      "text/plain": [
       "[70097,\n",
       " 6039,\n",
       " 274296,\n",
       " 0.0861520464499194,\n",
       " [('I', 2649), ('you', 2211), ('the', 2131), ('to', 1534), ('a', 1230)]]"
      ]
     },
     "execution_count": 77,
     "metadata": {},
     "output_type": "execute_result"
    }
   ],
   "source": [
    "from collections import defaultdict\n",
    "import os\n",
    "\n",
    "lyrics_path = os.path.join(data_location, lyrics_folder)\n",
    "lyrics_data = defaultdict(dict)\n",
    "\n",
    "# Loop through each artist's folder\n",
    "for item in os.listdir(lyrics_path):\n",
    "    item_path = os.path.join(lyrics_path, item)\n",
    "    \n",
    "    if os.path.isdir(item_path):\n",
    "        # Loop through each lyrics file\n",
    "        for lyric_page in os.listdir(item_path):\n",
    "            artist, song = lyric_page.split(\"_\", 1)  # Safer in case of multiple underscores\n",
    "            song = os.path.splitext(song)[0]         # Safely strip \".txt\"\n",
    "            file_path = os.path.join(item_path, lyric_page)\n",
    "\n",
    "            # Read and store the lyrics\n",
    "            with open(file_path, \"r\", encoding=\"utf-8\") as f:\n",
    "                lyrics_data[item][song] = f.read()\n",
    "\n",
    "robyn_lyrics = \" \".join(lyrics_data['robyn'].values())\n",
    "cher_lyrics = \" \".join(lyrics_data['cher'].values())\n",
    "\n",
    "descriptive_stats(robyn_lyrics, verbose=True)\n",
    "descriptive_stats(cher_lyrics, verbose=True)\n"
   ]
  },
  {
   "cell_type": "markdown",
   "id": "6a5f3b12",
   "metadata": {},
   "source": [
    "## Data Cleaning\n",
    "\n",
    "Now clean and tokenize your data. Remove punctuation chacters (available in the `punctuation` object in the `string` library), split on whitespace, fold to lowercase, and remove stopwords. Store your cleaned data, which must be accessible as an interable for `descriptive_stats`, in new objects or in new columns in your data frame. \n",
    "\n"
   ]
  },
  {
   "cell_type": "code",
   "execution_count": 78,
   "id": "71c73d86",
   "metadata": {},
   "outputs": [],
   "source": [
    "punctuation = set(punctuation) # speeds up comparison"
   ]
  },
  {
   "cell_type": "code",
   "execution_count": 65,
   "id": "b327033a",
   "metadata": {},
   "outputs": [],
   "source": [
    "import string\n",
    "# create your clean twitter data here\n",
    "\n",
    "sw = set(stopwords.words(\"english\"))\n",
    "punctuation = set(string.punctuation)\n",
    "\n",
    "# Dictionary to store cleaned twitter data\n",
    "descs_processed = defaultdict(list)\n",
    "\n",
    "for artist in twitter_data:\n",
    "    # Join all tweets for that artist into one string\n",
    "    descriptions = \" \".join(twitter_data[artist])\n",
    "\n",
    "    # Remove punctuation\n",
    "    descriptions = \"\".join([ch for ch in descriptions if ch not in punctuation])\n",
    "\n",
    "    # Lowercase and tokenize\n",
    "    tokens = [item.lower().strip() for item in descriptions.split()]\n",
    "\n",
    "    # Remove stopwords\n",
    "    tokens = [item for item in tokens if item not in sw]\n",
    "\n",
    "    # Store processed tokens\n",
    "    descs_processed[artist].extend(tokens)\n"
   ]
  },
  {
   "cell_type": "code",
   "execution_count": 82,
   "id": "836a529c",
   "metadata": {},
   "outputs": [
    {
     "name": "stdout",
     "output_type": "stream",
     "text": [
      "There are 10 tokens in the data.\n",
      "There are 10 unique tokens in the data.\n",
      "There are 78 characters in the data.\n",
      "The lexical diversity is 1.000.\n",
      "Top 5 words: [('screenname', 1), ('name', 1), ('id', 1), ('location', 1), ('followerscount', 1)]\n"
     ]
    },
    {
     "data": {
      "text/plain": [
       "[10,\n",
       " 10,\n",
       " 78,\n",
       " 1.0,\n",
       " [('screenname', 1),\n",
       "  ('name', 1),\n",
       "  ('id', 1),\n",
       "  ('location', 1),\n",
       "  ('followerscount', 1)]]"
      ]
     },
     "execution_count": 82,
     "metadata": {},
     "output_type": "execute_result"
    }
   ],
   "source": [
    "descriptive_stats(descs_processed['cher'], num_tokens=10)"
   ]
  },
  {
   "cell_type": "code",
   "execution_count": 83,
   "id": "124ee114",
   "metadata": {},
   "outputs": [
    {
     "name": "stdout",
     "output_type": "stream",
     "text": [
      "There are 10 tokens in the data.\n",
      "There are 10 unique tokens in the data.\n",
      "There are 98 characters in the data.\n",
      "The lexical diversity is 1.000.\n",
      "Top 5 words: [('screenname', 1), ('name', 1), ('id', 1), ('location', 1), ('followerscount', 1)]\n"
     ]
    },
    {
     "data": {
      "text/plain": [
       "[10,\n",
       " 10,\n",
       " 98,\n",
       " 1.0,\n",
       " [('screenname', 1),\n",
       "  ('name', 1),\n",
       "  ('id', 1),\n",
       "  ('location', 1),\n",
       "  ('followerscount', 1)]]"
      ]
     },
     "execution_count": 83,
     "metadata": {},
     "output_type": "execute_result"
    }
   ],
   "source": [
    "descriptive_stats(descs_processed['robynkonichiwa'], num_tokens=10)"
   ]
  },
  {
   "cell_type": "code",
   "execution_count": 85,
   "id": "e0f22e10",
   "metadata": {},
   "outputs": [],
   "source": [
    "# create your clean lyrics data here\n",
    "\n",
    "sw = set(stopwords.words(\"english\"))\n",
    "punctuation = set(string.punctuation)\n",
    "\n",
    "# Dictionary to store cleaned lyrics data\n",
    "lyrics_processed = defaultdict(list)\n",
    "\n",
    "for artist in lyrics_data:\n",
    "    for song in lyrics_data[artist]:\n",
    "        # Remove punctuation\n",
    "        lyrics = \"\".join([ch for ch in lyrics_data[artist][song] if ch not in punctuation])\n",
    "\n",
    "        # Tokenize\n",
    "        tokens = [w.lower().strip() for w in lyrics.split()]\n",
    "        tokens = [w for w in tokens if w not in sw]\n",
    "        \n",
    "        # Store processed tokens\n",
    "        lyrics_processed[artist].extend(tokens)\n"
   ]
  },
  {
   "cell_type": "code",
   "execution_count": 86,
   "id": "224ed428",
   "metadata": {},
   "outputs": [
    {
     "name": "stdout",
     "output_type": "stream",
     "text": [
      "There are 10 tokens in the data.\n",
      "There are 10 unique tokens in the data.\n",
      "There are 55 characters in the data.\n",
      "The lexical diversity is 1.000.\n",
      "Top 5 words: [('88', 1), ('days', 1), ('light', 1), ('candle', 1), ('morning', 1)]\n"
     ]
    },
    {
     "data": {
      "text/plain": [
       "[10,\n",
       " 10,\n",
       " 55,\n",
       " 1.0,\n",
       " [('88', 1), ('days', 1), ('light', 1), ('candle', 1), ('morning', 1)]]"
      ]
     },
     "execution_count": 86,
     "metadata": {},
     "output_type": "execute_result"
    }
   ],
   "source": [
    "descriptive_stats(lyrics_processed['robyn'], num_tokens=10)"
   ]
  },
  {
   "cell_type": "code",
   "execution_count": 87,
   "id": "218d065a",
   "metadata": {},
   "outputs": [
    {
     "name": "stdout",
     "output_type": "stream",
     "text": [
      "There are 10 tokens in the data.\n",
      "There are 10 unique tokens in the data.\n",
      "There are 47 characters in the data.\n",
      "The lexical diversity is 1.000.\n",
      "Top 5 words: [('88', 1), ('degrees', 1), ('stuck', 1), ('la', 1), ('aint', 1)]\n"
     ]
    },
    {
     "data": {
      "text/plain": [
       "[10,\n",
       " 10,\n",
       " 47,\n",
       " 1.0,\n",
       " [('88', 1), ('degrees', 1), ('stuck', 1), ('la', 1), ('aint', 1)]]"
      ]
     },
     "execution_count": 87,
     "metadata": {},
     "output_type": "execute_result"
    }
   ],
   "source": [
    "descriptive_stats(lyrics_processed['cher'],num_tokens=10)"
   ]
  },
  {
   "cell_type": "markdown",
   "id": "f2dd0179",
   "metadata": {},
   "source": [
    "## Basic Descriptive Statistics\n",
    "\n",
    "Call your `descriptive_stats` function on both your lyrics data and your twitter data and for both artists (four total calls). "
   ]
  },
  {
   "cell_type": "code",
   "execution_count": 89,
   "id": "f0bbedd9",
   "metadata": {},
   "outputs": [
    {
     "name": "stdout",
     "output_type": "stream",
     "text": [
      "Lyrics keys: dict_keys(['cher', 'robyn'])\n",
      "Twitter keys: dict_keys(['cher', 'robynkonichiwa'])\n",
      "Robyn Lyrics:\n",
      "There are 15227 tokens in the data.\n",
      "There are 2156 unique tokens in the data.\n",
      "There are 73787 characters in the data.\n",
      "The lexical diversity is 0.142.\n",
      "Top 5 words: [('know', 308), ('dont', 301), ('im', 299), ('love', 275), ('got', 251)]\n",
      "\n",
      "Robyn Twitter:\n",
      "There are 3888265 tokens in the data.\n",
      "There are 1136751 unique tokens in the data.\n",
      "There are 24106279 characters in the data.\n",
      "The lexical diversity is 0.292.\n",
      "Top 5 words: [('0', 31800), ('1', 24115), ('2', 17675), ('music', 16049), ('3', 14372)]\n",
      "\n",
      "Cher Lyrics:\n",
      "There are 35916 tokens in the data.\n",
      "There are 3703 unique tokens in the data.\n",
      "There are 172634 characters in the data.\n",
      "The lexical diversity is 0.103.\n",
      "Top 5 words: [('love', 1004), ('im', 513), ('know', 486), ('dont', 440), ('youre', 333)]\n",
      "\n",
      "Cher Twitter:\n",
      "There are 42404149 tokens in the data.\n",
      "There are 10667109 unique tokens in the data.\n",
      "There are 266424726 characters in the data.\n",
      "The lexical diversity is 0.252.\n",
      "Top 5 words: [('0', 334292), ('1', 284601), ('2', 237886), ('love', 221728), ('3', 196690)]\n"
     ]
    },
    {
     "data": {
      "text/plain": [
       "[42404149,\n",
       " 10667109,\n",
       " 266424726,\n",
       " 0.2515581435203428,\n",
       " [('0', 334292),\n",
       "  ('1', 284601),\n",
       "  ('2', 237886),\n",
       "  ('love', 221728),\n",
       "  ('3', 196690)]]"
      ]
     },
     "execution_count": 89,
     "metadata": {},
     "output_type": "execute_result"
    }
   ],
   "source": [
    "# calls to descriptive_stats here\n",
    "print(\"Lyrics keys:\", lyrics_data.keys())\n",
    "print(\"Twitter keys:\", twitter_data.keys())\n",
    "\n",
    "# Combine lyrics data per artist\n",
    "robyn_lyrics = \" \".join(lyrics_processed['robyn'])\n",
    "cher_lyrics = \" \".join(lyrics_processed['cher'])\n",
    "\n",
    "# Combine Twitter data per artist\n",
    "robyn_tweets = \" \".join(descs_processed['robynkonichiwa'])\n",
    "cher_tweets = \" \".join(descs_processed['cher'])\n",
    "\n",
    "# Call descriptive_stats on each\n",
    "print(\"Robyn Lyrics:\")\n",
    "descriptive_stats(robyn_lyrics, verbose=True)\n",
    "\n",
    "print(\"\\nRobyn Twitter:\")\n",
    "descriptive_stats(robyn_tweets, verbose=True)\n",
    "\n",
    "print(\"\\nCher Lyrics:\")\n",
    "descriptive_stats(cher_lyrics, verbose=True)\n",
    "\n",
    "print(\"\\nCher Twitter:\")\n",
    "descriptive_stats(cher_tweets, verbose=True)\n"
   ]
  },
  {
   "cell_type": "markdown",
   "id": "46294409",
   "metadata": {},
   "source": [
    "Q: How do you think the \"top 5 words\" would be different if we left stopwords in the data? \n",
    "\n",
    "A: If we left stopwords in the data, the top 5 words would probably be common words like \"the\", \"and\", or \"is\". These words show up a lot in English but don’t tell us much about the meaning or style of the lyrics or tweets. Removing stopwords helps us see more interesting and meaningful words that better reflect what the artist is really saying.\n",
    "\n",
    "---\n",
    "\n",
    "Q: What were your prior beliefs about the lexical diversity between the artists? Does the difference (or lack thereof) in lexical diversity between the artists conform to your prior beliefs? \n",
    "\n",
    "A: I expected the it to be different between Robyn and Cher, since they have different styles. I thought Robyn might have slightly higher diversity because her lyrics often seem more unusal. The results mostly confirm that, with Robyn’s lyrics having a slightly higher lexical diversity than Cher’s. On Twitter, both artists had much higher diversity overall, but Robyn still showed slightly more variety in her word use, which fits with my expectations.\n"
   ]
  },
  {
   "cell_type": "markdown",
   "id": "4d4e1ac1",
   "metadata": {},
   "source": [
    "\n",
    "## Specialty Statistics\n",
    "\n",
    "The descriptive statistics we have calculated are quite generic. You will now calculate a handful of statistics tailored to these data.\n",
    "\n",
    "1. Ten most common emojis by artist in the twitter descriptions.\n",
    "1. Ten most common hashtags by artist in the twitter descriptions.\n",
    "1. Five most common words in song titles by artist. \n",
    "1. For each artist, a histogram of song lengths (in terms of number of tokens) \n",
    "\n",
    "We can use the `emoji` library to help us identify emojis and you have been given a function to help you.\n"
   ]
  },
  {
   "cell_type": "code",
   "execution_count": 90,
   "id": "753a5a3e",
   "metadata": {},
   "outputs": [],
   "source": [
    "import emoji\n",
    "\n",
    "assert(emoji.is_emoji(\"❤️\"))\n",
    "assert(not emoji.is_emoji(\":-)\"))"
   ]
  },
  {
   "cell_type": "markdown",
   "id": "986fc4c0",
   "metadata": {},
   "source": [
    "### Emojis 😁\n",
    "\n",
    "What are the ten most common emojis by artist in the twitter descriptions? \n"
   ]
  },
  {
   "cell_type": "code",
   "execution_count": 91,
   "id": "269cd433",
   "metadata": {},
   "outputs": [
    {
     "name": "stdout",
     "output_type": "stream",
     "text": [
      "cher: [('❤', 94506), ('🌈', 66291), ('♥', 48059), ('🏳', 47174), ('✨', 45846), ('🌊', 31234), ('💙', 31050), ('🏻', 25195), ('✌', 21963), ('💜', 21571)]\n",
      "robynkonichiwa: [('🌈', 6086), ('❤', 5635), ('🏳', 4641), ('♥', 4249), ('✨', 3217), ('🏻', 1751), ('✌', 1495), ('♀', 1347), ('🏼', 1340), ('💙', 1200)]\n"
     ]
    }
   ],
   "source": [
    "# Your code here\n",
    "def extract_emojis(text):\n",
    "    return [ch for ch in text if ch in emoji.EMOJI_DATA]\n",
    "\n",
    "# Get top 10 emojis by artist\n",
    "emoji_counts = {}\n",
    "\n",
    "for artist in twitter_data:\n",
    "    all_text = \" \".join(twitter_data[artist])\n",
    "    emojis = extract_emojis(all_text)\n",
    "    emoji_counts[artist] = Counter(emojis).most_common(10)\n",
    "\n",
    "# Example output\n",
    "for artist, top_emojis in emoji_counts.items():\n",
    "    print(f\"{artist}: {top_emojis}\")"
   ]
  },
  {
   "cell_type": "markdown",
   "id": "bab9b770",
   "metadata": {},
   "source": [
    "### Hashtags\n",
    "\n",
    "What are the ten most common hashtags by artist in the twitter descriptions? \n"
   ]
  },
  {
   "cell_type": "code",
   "execution_count": 92,
   "id": "07c396f1",
   "metadata": {},
   "outputs": [
    {
     "name": "stdout",
     "output_type": "stream",
     "text": [
      "\n",
      "Top 10 hashtags for cher:\n",
      "#resist: 9729\n",
      "#blm: 9271\n",
      "#blacklivesmatter: 7770\n",
      "#fbr: 2991\n",
      "#theresistance: 2929\n",
      "#1: 2580\n",
      "#resistance: 2438\n",
      "#: 2205\n",
      "#voteblue: 1939\n",
      "#lgbtq: 1461\n",
      "\n",
      "Top 10 hashtags for robynkonichiwa:\n",
      "#blacklivesmatter: 601\n",
      "#blm: 365\n",
      "#music: 262\n",
      "#1: 213\n",
      "#: 175\n",
      "#teamfollowback: 118\n",
      "#edm: 104\n",
      "#resist: 77\n",
      "#freebritney: 70\n",
      "#blacktranslivesmatter: 58\n"
     ]
    }
   ],
   "source": [
    "# Your code here\n",
    "hashtag_counts = {}\n",
    "\n",
    "for artist in twitter_data:\n",
    "    all_text = \" \".join(twitter_data[artist])\n",
    "    hashtags = [word.lower() for word in all_text.split() if word.startswith('#')]\n",
    "    hashtag_counts[artist] = Counter(hashtags).most_common(10)\n",
    "\n",
    "# Display results\n",
    "for artist, top_tags in hashtag_counts.items():\n",
    "    print(f\"\\nTop 10 hashtags for {artist}:\")\n",
    "    for tag, count in top_tags:\n",
    "        print(f\"{tag}: {count}\")"
   ]
  },
  {
   "cell_type": "markdown",
   "id": "d10f21d5",
   "metadata": {},
   "source": [
    "### Song Titles\n",
    "\n",
    "What are the five most common words in song titles by artist? The song titles should be on the first line of the lyrics pages, so if you have kept the raw file contents around, you will not need to re-read the data.\n"
   ]
  },
  {
   "cell_type": "code",
   "execution_count": 93,
   "id": "bb69b36b",
   "metadata": {},
   "outputs": [
    {
     "name": "stdout",
     "output_type": "stream",
     "text": [
      "\n",
      "Top 5 words in song titles for cher:\n",
      "88degrees: 1\n",
      "adifferentkindoflovesong: 1\n",
      "afterall: 1\n",
      "again: 1\n",
      "alfie: 1\n",
      "\n",
      "Top 5 words in song titles for robyn:\n",
      "88days: 1\n",
      "aintnothing: 1\n",
      "anytimeyoulike: 1\n",
      "babyforgiveme: 1\n",
      "beach2k20: 1\n"
     ]
    }
   ],
   "source": [
    "# Your code here\n",
    "\n",
    "title_word_counts = {}\n",
    "\n",
    "for artist in lyrics_data:\n",
    "    titles = lyrics_data[artist].keys()  # Get all song titles for this artist\n",
    "    words = \" \".join(titles).lower().split()  # Combine and split titles into words\n",
    "    title_word_counts[artist] = Counter(words).most_common(5)\n",
    "\n",
    "# Display results\n",
    "for artist, top_words in title_word_counts.items():\n",
    "    print(f\"\\nTop 5 words in song titles for {artist}:\")\n",
    "    for word, count in top_words:\n",
    "        print(f\"{word}: {count}\")\n"
   ]
  },
  {
   "cell_type": "markdown",
   "id": "5dd4fd71",
   "metadata": {},
   "source": [
    "### Song Lengths\n",
    "\n",
    "For each artist, a histogram of song lengths (in terms of number of tokens). If you put the song lengths in a data frame with an artist column, matplotlib will make the plotting quite easy.  \n"
   ]
  },
  {
   "cell_type": "code",
   "execution_count": 95,
   "id": "805a1e52",
   "metadata": {},
   "outputs": [],
   "source": [
    "import pandas as pd\n",
    "import matplotlib.pyplot as plt\n",
    "\n",
    "# Create a list to store each song's artist and length\n",
    "song_length_data = []\n",
    "\n",
    "for artist in lyrics_data:\n",
    "    for song_title in lyrics_data[artist]:\n",
    "        # Count tokens in the song (basic .split on whitespace)\n",
    "        lyrics = lyrics_data[artist][song_title]\n",
    "        num_tokens = len(lyrics.split())\n",
    "        song_length_data.append({'artist': artist, 'song_length': num_tokens})\n",
    "\n",
    "# Convert to a DataFrame\n",
    "song_lengths_df = pd.DataFrame(song_length_data)"
   ]
  },
  {
   "cell_type": "code",
   "execution_count": 96,
   "id": "0cf0a6a3",
   "metadata": {},
   "outputs": [
    {
     "data": {
      "image/png": "[encoded data removed]",
      "text/plain": [
       "<Figure size 1000x600 with 1 Axes>"
      ]
     },
     "metadata": {},
     "output_type": "display_data"
    }
   ],
   "source": [
    "import seaborn as sns\n",
    "\n",
    "plt.figure(figsize=(10, 6))\n",
    "sns.histplot(data=song_lengths_df, x='song_length', hue='artist', kde=True, bins=20)\n",
    "plt.title(\"Histogram of Song Lengths by Artist\")\n",
    "plt.xlabel(\"Number of Tokens\")\n",
    "plt.ylabel(\"Number of Songs\")\n",
    "plt.tight_layout()\n",
    "plt.show()"
   ]
  },
  {
   "cell_type": "markdown",
   "id": "8fde9ebb",
   "metadata": {},
   "source": [
    "Since the lyrics may be stored with carriage returns or tabs, it may be useful to have a function that can collapse whitespace, using regular expressions, and be used for splitting. \n",
    "\n",
    "Q: What does the regular expression `'\\s+'` match on? \n",
    "\n",
    "A: The regular expression \\s+ matches one or more whitespace characters including spaces, tabs (\\t), newlines (\\n), and carriage returns (\\r). It's often used to collapse multiple whitespace characters into a single space or to split text into words, regardless of how the text is spaced or formatted.\n"
   ]
  }
 ],
 "metadata": {
  "kernelspec": {
   "display_name": "base",
   "language": "python",
   "name": "python3"
  },
  "language_info": {
   "codemirror_mode": {
    "name": "ipython",
    "version": 3
   },
   "file_extension": ".py",
   "mimetype": "text/x-python",
   "name": "python",
   "nbconvert_exporter": "python",
   "pygments_lexer": "ipython3",
   "version": "3.12.2"
  }
 },
 "nbformat": 4,
 "nbformat_minor": 5
}
